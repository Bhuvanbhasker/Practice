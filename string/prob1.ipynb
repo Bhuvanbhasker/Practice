{
 "cells": [
  {
   "cell_type": "code",
   "execution_count": null,
   "metadata": {},
   "outputs": [],
   "source": [
    "a = \"hello world\"\n",
    "print(a)\n",
    "print(type(a))"
   ]
  },
  {
   "cell_type": "markdown",
   "metadata": {},
   "source": [
    "Take a string input and print it's length."
   ]
  },
  {
   "cell_type": "code",
   "execution_count": null,
   "metadata": {},
   "outputs": [],
   "source": [
    "a = \"helloworld!\"\n",
    "print(len(a))"
   ]
  },
  {
   "cell_type": "markdown",
   "metadata": {},
   "source": [
    "Print the last word of the string Python is great using slices."
   ]
  },
  {
   "cell_type": "code",
   "execution_count": null,
   "metadata": {},
   "outputs": [],
   "source": [
    "a = \"python is great\"\n",
    "print(a[-1:-6])\n"
   ]
  },
  {
   "cell_type": "code",
   "execution_count": null,
   "metadata": {},
   "outputs": [],
   "source": [
    "a = \"python is great\"\n",
    "print(a[9:])\n"
   ]
  },
  {
   "cell_type": "markdown",
   "metadata": {},
   "source": [
    "Print the each word in different line of string python is everywhere"
   ]
  },
  {
   "cell_type": "code",
   "execution_count": null,
   "metadata": {},
   "outputs": [],
   "source": [
    "print(\"python\\nis\\neverwhere\")"
   ]
  },
  {
   "cell_type": "code",
   "execution_count": null,
   "metadata": {},
   "outputs": [],
   "source": [
    "string = \"Python is everywhere\"\n",
    "words = string.split()  # Split the string into words using spaces as the delimiter\n",
    "\n",
    "for word in words:\n",
    "    print(word)\n"
   ]
  },
  {
   "cell_type": "markdown",
   "metadata": {},
   "source": [
    "Print the string Hello World! in reverse."
   ]
  },
  {
   "cell_type": "code",
   "execution_count": null,
   "metadata": {},
   "outputs": [],
   "source": [
    "a = \"Hello World!\"\n",
    "print(a[::-1])"
   ]
  },
  {
   "cell_type": "markdown",
   "metadata": {},
   "source": [
    "Convert the string How are you? in uppercase."
   ]
  },
  {
   "cell_type": "code",
   "execution_count": null,
   "metadata": {},
   "outputs": [],
   "source": [
    "a = \"How are you\"\n",
    "b = a.upper()\n",
    "print(b)\n"
   ]
  },
  {
   "cell_type": "markdown",
   "metadata": {},
   "source": [
    "Convert the string How Is It Going? in lowercase."
   ]
  },
  {
   "cell_type": "code",
   "execution_count": null,
   "metadata": {},
   "outputs": [],
   "source": [
    "a = \"How Is It Going\"\n",
    "b = a.lower()\n",
    "print(b)\n"
   ]
  },
  {
   "cell_type": "markdown",
   "metadata": {},
   "source": [
    "Join the following list by spaces( ) and print the result.\n"
   ]
  },
  {
   "cell_type": "code",
   "execution_count": null,
   "metadata": {},
   "outputs": [],
   "source": [
    "words = ['Python', 'is', 'easy', 'to', 'learn']\n",
    "b = ' ' .join(words)\n",
    "print(b)"
   ]
  },
  {
   "cell_type": "markdown",
   "metadata": {},
   "source": [
    "Print a multiline string using a single print"
   ]
  },
  {
   "cell_type": "code",
   "execution_count": null,
   "metadata": {},
   "outputs": [],
   "source": [
    "a = \"hello world\\n\" *4\n",
    "print(a)"
   ]
  },
  {
   "cell_type": "markdown",
   "metadata": {},
   "source": [
    "Print this string to move to newline '\\n' is used. (results should look exactly like the provided string)\n"
   ]
  },
  {
   "cell_type": "code",
   "execution_count": null,
   "metadata": {},
   "outputs": [],
   "source": [
    "print(\"my name is bhuvan\\n i am student of cse\\n in kmclu\")"
   ]
  },
  {
   "cell_type": "markdown",
   "metadata": {},
   "source": [
    "Print a variable with some text using a single print function, output should look like following.\n",
    "the variable is 15"
   ]
  },
  {
   "cell_type": "code",
   "execution_count": null,
   "metadata": {},
   "outputs": [],
   "source": [
    "a = \"variable is 15 \"\n",
    "print(a)"
   ]
  },
  {
   "cell_type": "markdown",
   "metadata": {},
   "source": [
    "concatenate the following strings and print the result\n",
    "s1 = 'python '\n",
    "s2 = 'is '\n",
    "s3 = 'great.'"
   ]
  },
  {
   "cell_type": "code",
   "execution_count": null,
   "metadata": {},
   "outputs": [],
   "source": [
    "\n",
    "s1 = 'python '\n",
    "s2 = 'is '\n",
    "s3 = 'great '\n",
    "print(s1 + s2 + s3)\n"
   ]
  },
  {
   "cell_type": "markdown",
   "metadata": {},
   "source": [
    "Print numbers from 1 to 9, each on a seperate line, followed by a dot, output should look like the following-\n",
    "1.\n",
    "2.\n",
    "3."
   ]
  },
  {
   "cell_type": "code",
   "execution_count": null,
   "metadata": {},
   "outputs": [],
   "source": [
    "for i in range(1, 10):\n",
    "  print(str(i) + \".\")"
   ]
  },
  {
   "cell_type": "markdown",
   "metadata": {},
   "source": [
    "Ask user to input a sentence and print each word on a different line."
   ]
  },
  {
   "cell_type": "code",
   "execution_count": 16,
   "metadata": {},
   "outputs": [],
   "source": [
    "a = input(\"enter the sentence: \")\n",
    "b = a.split()\n",
    "for sep in b:\n",
    "  print(sep)"
   ]
  },
  {
   "cell_type": "markdown",
   "metadata": {},
   "source": [
    "Ask user to input a string and check if the string ends with '?'"
   ]
  },
  {
   "cell_type": "code",
   "execution_count": null,
   "metadata": {},
   "outputs": [],
   "source": [
    "# Ask the user for input\n",
    "user_input = input(\"Please enter a string: \")\n",
    "\n",
    "# Check if the string ends with '?'\n",
    "if user_input.endswith('?'):\n",
    "    print(\"The string ends with a question mark.\")\n",
    "else:\n",
    "    print(\"The string does not end with a question mark.\")\n"
   ]
  },
  {
   "cell_type": "markdown",
   "metadata": {},
   "source": [
    "Ask user to input a string and print how many times e appeared in the string"
   ]
  },
  {
   "cell_type": "code",
   "execution_count": null,
   "metadata": {},
   "outputs": [],
   "source": [
    "a = input(\"Please enter a string: \")\n",
    "b = a.count('e') \n",
    "# print(f\"The letter 'e' appeared {b} times in the string.\")\n",
    "print(b)"
   ]
  },
  {
   "cell_type": "markdown",
   "metadata": {},
   "source": [
    "Check if the user input is a number."
   ]
  },
  {
   "cell_type": "code",
   "execution_count": null,
   "metadata": {},
   "outputs": [],
   "source": [
    "# Ask the user for input\n",
    "user_input = input(\"Please enter something: \")\n",
    "\n",
    "try:\n",
    "    # Attempt to convert the input to a float\n",
    "    float(user_input)\n",
    "    print(\"The input is a number.\")\n",
    "except ValueError:\n",
    "    print(\"The input is not a number.\")\n"
   ]
  },
  {
   "cell_type": "markdown",
   "metadata": {},
   "source": [
    "Remove the extra spaces in beginning and in the end of the following string-\n",
    "text = '   this is not a good string  "
   ]
  },
  {
   "cell_type": "code",
   "execution_count": null,
   "metadata": {},
   "outputs": [],
   "source": [
    "text = \" '   this is not a good string \"\n",
    "b = text.strip()\n",
    "\n",
    "print(b)\n"
   ]
  },
  {
   "cell_type": "markdown",
   "metadata": {},
   "source": [
    "Ask user to input string, print found if any of the character is upper case."
   ]
  },
  {
   "cell_type": "code",
   "execution_count": 3,
   "metadata": {},
   "outputs": [
    {
     "name": "stdout",
     "output_type": "stream",
     "text": [
      "sum of even no 20\n"
     ]
    }
   ],
   "source": [
    "my_list = [1,2,3,4,5,6,7,8]\n",
    "even_sum =0\n",
    "for number in my_list:\n",
    "  if number%2==0:\n",
    "    even_sum += number\n",
    "print(\"sum of even no\", even_sum)"
   ]
  },
  {
   "cell_type": "code",
   "execution_count": 11,
   "metadata": {},
   "outputs": [
    {
     "name": "stdout",
     "output_type": "stream",
     "text": [
      "the no. is prime\n"
     ]
    }
   ],
   "source": [
    "num = int(input('enter the number '))\n",
    "is_prime = True\n",
    "for i in range(2,num):\n",
    "    if num%i == 0:\n",
    "        is_prime = False\n",
    "if is_prime == True:\n",
    "    print('the no. is prime')\n",
    "else:\n",
    "    print('no. is not prime')"
   ]
  },
  {
   "cell_type": "code",
   "execution_count": 19,
   "metadata": {},
   "outputs": [
    {
     "name": "stdout",
     "output_type": "stream",
     "text": [
      "Sum of Prime Numbers in the list: 15\n"
     ]
    }
   ],
   "source": [
    "my_list = [3, 4, 5, 6, 7, 8, 9]\n",
    "prime_sum = 0\n",
    "\n",
    "# Iterate through the list and check if each number is prime\n",
    "for number in my_list:\n",
    "    if number > 1:  # Skip numbers less than or equal to 1\n",
    "        is_prime = True\n",
    "        for i in range(2, int(number ** 0.5) + 1):\n",
    "            if number % i == 0:\n",
    "                is_prime = False\n",
    "                break\n",
    "        if is_prime:\n",
    "            prime_sum += number\n",
    "\n",
    "print(\"Sum of Prime Numbers in the list:\", prime_sum)\n"
   ]
  }
 ],
 "metadata": {
  "kernelspec": {
   "display_name": "Python 3",
   "language": "python",
   "name": "python3"
  },
  "language_info": {
   "codemirror_mode": {
    "name": "ipython",
    "version": 3
   },
   "file_extension": ".py",
   "mimetype": "text/x-python",
   "name": "python",
   "nbconvert_exporter": "python",
   "pygments_lexer": "ipython3",
   "version": "3.11.5"
  },
  "orig_nbformat": 4
 },
 "nbformat": 4,
 "nbformat_minor": 2
}
