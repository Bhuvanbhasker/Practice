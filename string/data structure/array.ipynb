{
 "cells": [
  {
   "cell_type": "code",
   "execution_count": 1,
   "metadata": {},
   "outputs": [
    {
     "name": "stdout",
     "output_type": "stream",
     "text": [
      "10\n",
      "20\n",
      "30\n",
      "40\n",
      "50\n"
     ]
    }
   ],
   "source": [
    "\n",
    "from array import *\n",
    "\n",
    "array1 = array('i', [10,20,30,40,50])\n",
    "\n",
    "for x in array1:\n",
    "   print(x)"
   ]
  },
  {
   "cell_type": "code",
   "execution_count": 2,
   "metadata": {},
   "outputs": [
    {
     "name": "stdout",
     "output_type": "stream",
     "text": [
      "10\n",
      "30\n"
     ]
    }
   ],
   "source": [
    "# for accessing the element\n",
    "from array import *\n",
    "\n",
    "array1 = array('i', [10,20,30,40,50])\n",
    "\n",
    "print (array1[0])\n",
    "\n",
    "print (array1[2])"
   ]
  },
  {
   "cell_type": "code",
   "execution_count": null,
   "metadata": {},
   "outputs": [],
   "source": [
    "# Insertion Operation\n",
    "from array import *\n",
    "\n",
    "array1 = array('i', [10,20,30,40,50])\n",
    "\n",
    "array1.insert(1,60)\n",
    "\n",
    "for x in array1:\n",
    "   print(x)"
   ]
  },
  {
   "cell_type": "code",
   "execution_count": 4,
   "metadata": {},
   "outputs": [
    {
     "name": "stdout",
     "output_type": "stream",
     "text": [
      "20\n",
      "30\n",
      "40\n",
      "50\n"
     ]
    }
   ],
   "source": [
    "# Deletion Operation\n",
    "from array import *\n",
    "array = array('i', [10,20,30,40,50])\n",
    "array1.remove(10)\n",
    "for x in array1:\n",
    "    print(x)\n",
    "    "
   ]
  },
  {
   "cell_type": "code",
   "execution_count": 9,
   "metadata": {},
   "outputs": [
    {
     "name": "stdout",
     "output_type": "stream",
     "text": [
      "4\n"
     ]
    }
   ],
   "source": [
    "# Search Operation\n",
    "from array import *\n",
    "array1 = array('i', [10,20,30,40,50])\n",
    "print(array1.index(50))\n",
    "    \n"
   ]
  },
  {
   "cell_type": "code",
   "execution_count": 11,
   "metadata": {},
   "outputs": [
    {
     "name": "stdout",
     "output_type": "stream",
     "text": [
      "10\n",
      "20\n",
      "80\n",
      "40\n",
      "50\n"
     ]
    }
   ],
   "source": [
    "# Update Operation\n",
    "from array import *\n",
    "array1 = array('i', [10,20,30,40,50])\n",
    "array1[2] = 80\n",
    "for x in array1:\n",
    "    print(x)\n",
    "    \n"
   ]
  },
  {
   "cell_type": "code",
   "execution_count": 12,
   "metadata": {},
   "outputs": [
    {
     "name": "stdout",
     "output_type": "stream",
     "text": [
      "[11, 12, 5, 2]\n",
      "10\n"
     ]
    }
   ],
   "source": [
    "from array import *\n",
    "\n",
    "T = [[11, 12, 5, 2], [15, 6,10], [10, 8, 12, 5], [12,15,8,6]]\n",
    "\n",
    "print(T[0])\n",
    "\n",
    "print(T[1][2])"
   ]
  },
  {
   "cell_type": "code",
   "execution_count": 13,
   "metadata": {},
   "outputs": [
    {
     "name": "stdout",
     "output_type": "stream",
     "text": [
      "11 12 5 2 \n",
      "15 6 10 \n",
      "10 8 12 5 \n",
      "12 15 8 6 \n"
     ]
    }
   ],
   "source": [
    "from array import *\n",
    "\n",
    "T = [[11, 12, 5, 2], [15, 6,10], [10, 8, 12, 5], [12,15,8,6]]\n",
    "for r in T:\n",
    "   for c in r:\n",
    "      print(c,end = \" \")\n",
    "   print()"
   ]
  },
  {
   "cell_type": "code",
   "execution_count": 14,
   "metadata": {},
   "outputs": [
    {
     "name": "stdout",
     "output_type": "stream",
     "text": [
      "11 12 5 2 \n",
      "15 6 10 \n",
      "0 5 11 13 6 \n",
      "10 8 12 5 \n",
      "12 15 8 6 \n"
     ]
    }
   ],
   "source": [
    "from array import *\n",
    "T = [[11, 12, 5, 2], [15, 6,10], [10, 8, 12, 5], [12,15,8,6]]\n",
    "\n",
    "T.insert(2, [0,5,11,13,6])\n",
    "\n",
    "for r in T:\n",
    "   for c in r:\n",
    "      print(c,end = \" \")\n",
    "   print()"
   ]
  },
  {
   "cell_type": "code",
   "execution_count": null,
   "metadata": {},
   "outputs": [],
   "source": [
    "\n",
    "from numpy import *\n",
    "# array in 2D\n",
    "a = array([['mon', 3, 4, 5, 6],['tue', 5,6,7,8,],['wed', 2,3,4,5,],\n",
    "               ['thirs', 3, 4, 5, 6],['fri', 5,6,7,8,],['sat', 2,3,4,5,]\n",
    "               ['sun', 3, 4, 5, 6]])\n",
    "m = reshape(a, (7,5))\n",
    "print(m)"
   ]
  },
  {
   "cell_type": "code",
   "execution_count": 19,
   "metadata": {},
   "outputs": [
    {
     "name": "stdout",
     "output_type": "stream",
     "text": [
      "[['Mon' '18' '20' '22' '17']\n",
      " ['Tue' '11' '18' '21' '18']\n",
      " ['Wed' '15' '21' '20' '19']\n",
      " ['Thu' '11' '20' '22' '21']\n",
      " ['Fri' '18' '17' '23' '22']\n",
      " ['Sat' '12' '22' '20' '18']\n",
      " ['Sun' '13' '15' '19' '16']]\n"
     ]
    }
   ],
   "source": [
    "# ARRAY IN 2D\n",
    "from numpy import * \n",
    "a = array([['Mon',18,20,22,17],['Tue',11,18,21,18],\n",
    "   ['Wed',15,21,20,19],['Thu',11,20,22,21],\n",
    "   ['Fri',18,17,23,22],['Sat',12,22,20,18],\n",
    "   ['Sun',13,15,19,16]])\n",
    "m = reshape(a,(7,5))\n",
    "print(m)"
   ]
  },
  {
   "cell_type": "code",
   "execution_count": 27,
   "metadata": {},
   "outputs": [
    {
     "name": "stdout",
     "output_type": "stream",
     "text": [
      "['Wed' '15' '21' '20' '19']\n",
      "20\n"
     ]
    }
   ],
   "source": [
    "\n",
    "from numpy import * \n",
    "a = array([['Mon',18,20,22,17],['Tue',11,18,21,18],\n",
    "   ['Wed',15,21,20,19],['Thu',11,20,22,21],\n",
    "   ['Fri',18,17,23,22],['Sat',12,22,20,18],\n",
    "   ['Sun',13,15,19,16]])\n",
    "print(m[2])\n",
    "print(m[0][2])"
   ]
  },
  {
   "cell_type": "code",
   "execution_count": 33,
   "metadata": {},
   "outputs": [
    {
     "name": "stdout",
     "output_type": "stream",
     "text": [
      "[['Mon' '18' '20' '22' '17']\n",
      " ['Tue' '11' '18' '21' '18']\n",
      " ['Wed' '15' '21' '20' '19']\n",
      " ['Thu' '11' '20' '22' '21']\n",
      " ['Fri' '18' '17' '23' '22']\n",
      " ['Sat' '12' '22' '20' '18']\n",
      " ['Sun' '13' '15' '19' '16']\n",
      " ['jan' '11' '2' '33' '44']]\n"
     ]
    }
   ],
   "source": [
    "\n",
    "from numpy import * \n",
    "a = array([['Mon',18,20,22,17],['Tue',11,18,21,18],\n",
    "   ['Wed',15,21,20,19],['Thu',11,20,22,21],\n",
    "   ['Fri',18,17,23,22],['Sat',12,22,20,18],\n",
    "   ['Sun',13,15,19,16]])\n",
    "m = append(a,[[ 'jan',11,2,33,44,]],0)\n",
    "print(m)"
   ]
  },
  {
   "cell_type": "code",
   "execution_count": 37,
   "metadata": {},
   "outputs": [
    {
     "name": "stdout",
     "output_type": "stream",
     "text": [
      "[['Mon' '18' '20' '22' '17' '11']\n",
      " ['Tue' '11' '18' '21' '18' '2']\n",
      " ['Wed' '15' '21' '20' '19' '33']\n",
      " ['Thu' '11' '20' '22' '21' '44']\n",
      " ['Fri' '18' '17' '23' '22' '23']\n",
      " ['Sat' '12' '22' '20' '18' '43']\n",
      " ['Sun' '13' '15' '19' '16' '78']]\n"
     ]
    }
   ],
   "source": [
    "from numpy import * \n",
    "a = array([['Mon',18,20,22,17],['Tue',11,18,21,18],\n",
    "   ['Wed',15,21,20,19],['Thu',11,20,22,21],\n",
    "   ['Fri',18,17,23,22],['Sat',12,22,20,18],\n",
    "   ['Sun',13,15,19,16]])\n",
    "m = insert(a,[5],[[11],[2],[33],[44],[23],[43],[78]],1)\n",
    "print(m)"
   ]
  },
  {
   "cell_type": "code",
   "execution_count": 42,
   "metadata": {},
   "outputs": [
    {
     "name": "stdout",
     "output_type": "stream",
     "text": [
      "[['Mon' '18' '22' '17']\n",
      " ['Tue' '11' '21' '18']\n",
      " ['Wed' '15' '20' '19']\n",
      " ['Thu' '11' '22' '21']\n",
      " ['Fri' '18' '23' '22']\n",
      " ['Sat' '12' '20' '18']\n",
      " ['Sun' '13' '19' '16']]\n"
     ]
    }
   ],
   "source": [
    "from numpy import * \n",
    "a = array([['Mon',18,20,22,17],['Tue',11,18,21,18],\n",
    "   ['Wed',15,21,20,19],['Thu',11,20,22,21],\n",
    "   ['Fri',18,17,23,22],['Sat',12,22,20,18],\n",
    "   ['Sun',13,15,19,16]])\n",
    "m = delete(a,[2],1)\n",
    "print(m)"
   ]
  },
  {
   "cell_type": "code",
   "execution_count": 45,
   "metadata": {},
   "outputs": [
    {
     "name": "stdout",
     "output_type": "stream",
     "text": [
      "[['Mon' '18' '20' '22' '17']\n",
      " ['Tue' '11' '18' '21' '18']\n",
      " ['jan' '1' '2' '3' '45']\n",
      " ['Thu' '11' '20' '22' '21']\n",
      " ['Fri' '18' '17' '23' '22']\n",
      " ['Sat' '12' '22' '20' '18']\n",
      " ['Sun' '13' '15' '19' '16']]\n"
     ]
    }
   ],
   "source": [
    "from numpy import * \n",
    "a = array([['Mon',18,20,22,17],['Tue',11,18,21,18],\n",
    "   ['Wed',15,21,20,19],['Thu',11,20,22,21],\n",
    "   ['Fri',18,17,23,22],['Sat',12,22,20,18],\n",
    "   ['Sun',13,15,19,16]])\n",
    "a[2] = ['jan',1,2,3,45]\n",
    "print(a)"
   ]
  },
  {
   "cell_type": "code",
   "execution_count": 46,
   "metadata": {},
   "outputs": [
    {
     "name": "stdout",
     "output_type": "stream",
     "text": [
      "[[10 10 10]\n",
      " [10 10 10]\n",
      " [10 10 10]]\n"
     ]
    }
   ],
   "source": [
    "# two matrix addintion\n",
    "import numpy as np\n",
    "\n",
    "matrix1 = np.array([[1, 2, 3],\n",
    "                   [4, 5, 6],\n",
    "                   [7, 8, 9]])\n",
    "\n",
    "matrix2 = np.array([[9, 8, 7],\n",
    "                   [6, 5, 4],\n",
    "                   [3, 2, 1]])\n",
    "\n",
    "result = matrix1 + matrix2\n",
    "\n",
    "print(result)\n",
    "\n"
   ]
  },
  {
   "cell_type": "code",
   "execution_count": 47,
   "metadata": {},
   "outputs": [
    {
     "name": "stdout",
     "output_type": "stream",
     "text": [
      "[[ 9 16 21]\n",
      " [24 25 24]\n",
      " [21 16  9]]\n"
     ]
    }
   ],
   "source": [
    "import numpy as np\n",
    "\n",
    "matrix1 = np.array([[1, 2, 3],\n",
    "                   [4, 5, 6],\n",
    "                   [7, 8, 9]])\n",
    "\n",
    "matrix2 = np.array([[9, 8, 7],\n",
    "                   [6, 5, 4],\n",
    "                   [3, 2, 1]])\n",
    "\n",
    "result = matrix1 * matrix2\n",
    "\n",
    "print(result)\n"
   ]
  },
  {
   "cell_type": "code",
   "execution_count": 48,
   "metadata": {},
   "outputs": [
    {
     "name": "stdout",
     "output_type": "stream",
     "text": [
      "[[-8 -6 -4]\n",
      " [-2  0  2]\n",
      " [ 4  6  8]]\n"
     ]
    }
   ],
   "source": [
    "import numpy as np\n",
    "\n",
    "matrix1 = np.array([[1, 2, 3],\n",
    "                   [4, 5, 6],\n",
    "                   [7, 8, 9]])\n",
    "\n",
    "matrix2 = np.array([[9, 8, 7],\n",
    "                   [6, 5, 4],\n",
    "                   [3, 2, 1]])\n",
    "\n",
    "result = matrix1 - matrix2\n",
    "\n",
    "print(result)\n"
   ]
  },
  {
   "cell_type": "code",
   "execution_count": 1,
   "metadata": {},
   "outputs": [
    {
     "name": "stdout",
     "output_type": "stream",
     "text": [
      "Toyota 2016\n"
     ]
    }
   ],
   "source": [
    "# class\n",
    "class car:  \n",
    "    def __init__(self,modelname, year):  \n",
    "        self.modelname = modelname  \n",
    "        self.year = year  \n",
    "    def display(self):  \n",
    "        print(self.modelname,self.year)  \n",
    "  \n",
    "c1 = car(\"Toyota\", 2016)  \n",
    "c1.display()  "
   ]
  },
  {
   "cell_type": "code",
   "execution_count": 4,
   "metadata": {},
   "outputs": [],
   "source": [
    "class Person:  \n",
    "    def __init__(self, name, age):  \n",
    "        # This is the constructor method that is called when creating a new Person object  \n",
    "        # It takes two parameters, name and age, and initializes them as attributes of the object  \n",
    "        self.name = name  \n",
    "        self.age = age  \n",
    "    def greet(self):  \n",
    "        # This is a method of the Person class that prints a greeting message  \n",
    "        print(\"Hello, my name is \" + self.name)  "
   ]
  },
  {
   "cell_type": "code",
   "execution_count": 5,
   "metadata": {},
   "outputs": [
    {
     "name": "stdout",
     "output_type": "stream",
     "text": [
      "Hello, my name is Ayan\n"
     ]
    }
   ],
   "source": [
    "class Person:  \n",
    "    def __init__(self, name, age):  \n",
    "        self.name = name    \n",
    "        self.age = age      \n",
    "    def greet(self):  \n",
    "        print(\"Hello, my name is \" + self.name)  \n",
    "  \n",
    "# Create a new instance of the Person class and assign it to the variable person1  \n",
    "person1 = Person(\"Ayan\", 25)  \n",
    "person1.greet()    "
   ]
  },
  {
   "cell_type": "code",
   "execution_count": 6,
   "metadata": {},
   "outputs": [
    {
     "name": "stdout",
     "output_type": "stream",
     "text": [
      "2\n"
     ]
    }
   ],
   "source": [
    "class Person:  \n",
    "    count = 0   # This is a class variable  \n",
    "  \n",
    "    def __init__(self, name, age):  \n",
    "        self.name = name    # This is an instance variable  \n",
    "        self.age = age  \n",
    "        Person.count += 1   # Accessing the class variable using the name of the class  \n",
    "person1 = Person(\"Ayan\", 25)  \n",
    "person2 = Person(\"Bobby\", 30)  \n",
    "print(Person.count)     \n"
   ]
  },
  {
   "cell_type": "code",
   "execution_count": 7,
   "metadata": {},
   "outputs": [
    {
     "name": "stdout",
     "output_type": "stream",
     "text": [
      "Ayan\n",
      "30\n"
     ]
    }
   ],
   "source": [
    "class Person:  \n",
    "    def __init__(self, name, age):  \n",
    "        self.name = name    # This is an instance variable  \n",
    "        self.age = age  \n",
    "person1 = Person(\"Ayan\", 25)  \n",
    "person2 = Person(\"Bobby\", 30)  \n",
    "print(person1.name)    \n",
    "print(person2.age)     "
   ]
  },
  {
   "cell_type": "code",
   "execution_count": 8,
   "metadata": {},
   "outputs": [
    {
     "name": "stdout",
     "output_type": "stream",
     "text": [
      "ID: 101 \n",
      "Name: John\n",
      "ID: 102 \n",
      "Name: David\n"
     ]
    }
   ],
   "source": [
    "class Employee:  \n",
    "    def __init__(self, name, id):  \n",
    "        self.id = id  \n",
    "        self.name = name  \n",
    "  \n",
    "    def display(self):  \n",
    "        print(\"ID: %d \\nName: %s\" % (self.id, self.name))  \n",
    "  \n",
    "  \n",
    "emp1 = Employee(\"John\", 101)  \n",
    "emp2 = Employee(\"David\", 102)  \n",
    "  \n",
    "# accessing display() method to print employee 1 information  \n",
    "  \n",
    "emp1.display()  \n",
    "  \n",
    "# accessing display() method to print employee 2 information  \n",
    "emp2.display()  "
   ]
  },
  {
   "cell_type": "code",
   "execution_count": 9,
   "metadata": {},
   "outputs": [
    {
     "name": "stdout",
     "output_type": "stream",
     "text": [
      "The number of students: 3\n"
     ]
    }
   ],
   "source": [
    "class Student:    \n",
    "    count = 0    \n",
    "    def __init__(self):    \n",
    "        Student.count = Student.count + 1    \n",
    "s1=Student()    \n",
    "s2=Student()    \n",
    "s3=Student()    \n",
    "print(\"The number of students:\",Student.count)    "
   ]
  },
  {
   "cell_type": "code",
   "execution_count": 10,
   "metadata": {},
   "outputs": [
    {
     "name": "stdout",
     "output_type": "stream",
     "text": [
      "This is non parametrized constructor\n",
      "Hello John\n"
     ]
    }
   ],
   "source": [
    "class Student:  \n",
    "    # Constructor - non parameterized  \n",
    "    def __init__(self):  \n",
    "        print(\"This is non parametrized constructor\")  \n",
    "    def show(self,name):  \n",
    "        print(\"Hello\",name)  \n",
    "student = Student()  \n",
    "student.show(\"John\")      "
   ]
  },
  {
   "cell_type": "code",
   "execution_count": 11,
   "metadata": {},
   "outputs": [
    {
     "name": "stdout",
     "output_type": "stream",
     "text": [
      "This is parametrized constructor\n",
      "Hello John\n"
     ]
    }
   ],
   "source": [
    "class Student:  \n",
    "    # Constructor - parameterized  \n",
    "    def __init__(self, name):  \n",
    "        print(\"This is parametrized constructor\")  \n",
    "        self.name = name  \n",
    "    def show(self):  \n",
    "        print(\"Hello\",self.name)  \n",
    "student = Student(\"John\")  \n",
    "student.show()    "
   ]
  },
  {
   "cell_type": "code",
   "execution_count": 12,
   "metadata": {},
   "outputs": [
    {
     "name": "stdout",
     "output_type": "stream",
     "text": [
      "101 Joseph\n"
     ]
    }
   ],
   "source": [
    "class Student:  \n",
    "    roll_num = 101  \n",
    "    name = \"Joseph\"  \n",
    "  \n",
    "    def display(self):  \n",
    "        print(self.roll_num,self.name)  \n",
    "  \n",
    "st = Student()  \n",
    "st.display()  "
   ]
  },
  {
   "cell_type": "code",
   "execution_count": 13,
   "metadata": {},
   "outputs": [
    {
     "name": "stdout",
     "output_type": "stream",
     "text": [
      "The second contructor\n"
     ]
    }
   ],
   "source": [
    "class Student:  \n",
    "    def __init__(self):  \n",
    "        print(\"The First Constructor\")  \n",
    "    def __init__(self):  \n",
    "        print(\"The second contructor\")  \n",
    "  \n",
    "st = Student()  "
   ]
  },
  {
   "cell_type": "code",
   "execution_count": 14,
   "metadata": {},
   "outputs": [
    {
     "name": "stdout",
     "output_type": "stream",
     "text": [
      "John\n",
      "23\n",
      "True\n"
     ]
    },
    {
     "ename": "AttributeError",
     "evalue": "'Student' object has no attribute 'age'",
     "output_type": "error",
     "traceback": [
      "\u001b[1;31m---------------------------------------------------------------------------\u001b[0m",
      "\u001b[1;31mAttributeError\u001b[0m                            Traceback (most recent call last)",
      "\u001b[1;32md:\\progamming\\Practice\\string\\data structure\\array.ipynb Cell 31\u001b[0m line \u001b[0;36m2\n\u001b[0;32m     <a href='vscode-notebook-cell:/d%3A/progamming/Practice/string/data%20structure/array.ipynb#X42sZmlsZQ%3D%3D?line=22'>23</a>\u001b[0m \u001b[39mdelattr\u001b[39m(s, \u001b[39m'\u001b[39m\u001b[39mage\u001b[39m\u001b[39m'\u001b[39m)  \n\u001b[0;32m     <a href='vscode-notebook-cell:/d%3A/progamming/Practice/string/data%20structure/array.ipynb#X42sZmlsZQ%3D%3D?line=24'>25</a>\u001b[0m \u001b[39m# this will give an error since the attribute age has been deleted  \u001b[39;00m\n\u001b[1;32m---> <a href='vscode-notebook-cell:/d%3A/progamming/Practice/string/data%20structure/array.ipynb#X42sZmlsZQ%3D%3D?line=25'>26</a>\u001b[0m \u001b[39mprint\u001b[39m(s\u001b[39m.\u001b[39;49mage)  \n",
      "\u001b[1;31mAttributeError\u001b[0m: 'Student' object has no attribute 'age'"
     ]
    }
   ],
   "source": [
    "class Student:  \n",
    "    def __init__(self, name, id, age):  \n",
    "        self.name = name  \n",
    "        self.id = id  \n",
    "        self.age = age  \n",
    "  \n",
    "    # creates the object of the class Student  \n",
    "s = Student(\"John\", 101, 22)  \n",
    "  \n",
    "# prints the attribute name of the object s  \n",
    "print(getattr(s, 'name'))  \n",
    "  \n",
    "# reset the value of attribute age to 23  \n",
    "setattr(s, \"age\", 23)  \n",
    "  \n",
    "# prints the modified value of age  \n",
    "print(getattr(s, 'age'))  \n",
    "  \n",
    "# prints true if the student contains the attribute with name id  \n",
    "  \n",
    "print(hasattr(s, 'id'))  \n",
    "# deletes the attribute age  \n",
    "delattr(s, 'age')  \n",
    "  \n",
    "# this will give an error since the attribute age has been deleted  \n",
    "print(s.age)  "
   ]
  },
  {
   "cell_type": "code",
   "execution_count": 15,
   "metadata": {},
   "outputs": [
    {
     "name": "stdout",
     "output_type": "stream",
     "text": [
      "None\n",
      "{'name': 'John', 'id': 101, 'age': 22}\n",
      "__main__\n"
     ]
    }
   ],
   "source": [
    "class Student:    \n",
    "    def __init__(self,name,id,age):    \n",
    "        self.name = name;    \n",
    "        self.id = id;    \n",
    "        self.age = age    \n",
    "    def display_details(self):    \n",
    "        print(\"Name:%s, ID:%d, age:%d\"%(self.name,self.id))    \n",
    "s = Student(\"John\",101,22)    \n",
    "print(s.__doc__)    \n",
    "print(s.__dict__)    \n",
    "print(s.__module__)    "
   ]
  }
 ],
 "metadata": {
  "kernelspec": {
   "display_name": "Python 3",
   "language": "python",
   "name": "python3"
  },
  "language_info": {
   "codemirror_mode": {
    "name": "ipython",
    "version": 3
   },
   "file_extension": ".py",
   "mimetype": "text/x-python",
   "name": "python",
   "nbconvert_exporter": "python",
   "pygments_lexer": "ipython3",
   "version": "3.11.6"
  }
 },
 "nbformat": 4,
 "nbformat_minor": 2
}
