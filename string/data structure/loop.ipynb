{
 "cells": [
  {
   "cell_type": "markdown",
   "metadata": {},
   "source": [
    "Write a program to check if a given year is a leap year using a while loop."
   ]
  },
  {
   "cell_type": "code",
   "execution_count": null,
   "metadata": {},
   "outputs": [],
   "source": [
    "num = int(input(\"Enter the year: \"))\n",
    "is_leap_year = False\n",
    "\n",
    "if (num % 4 == 0 and num % 100 != 0) or (num % 400 == 0):\n",
    "    is_leap_year = True\n",
    "\n",
    "if is_leap_year:\n",
    "    print(\"The year is a leap year\")\n",
    "else:\n",
    "    print(\"The year is not a leap year\")\n"
   ]
  },
  {
   "cell_type": "markdown",
   "metadata": {},
   "source": [
    "Write a program to print the multiplication table of numbers from 1 to 5 using a for loop."
   ]
  },
  {
   "cell_type": "code",
   "execution_count": null,
   "metadata": {},
   "outputs": [],
   "source": [
    "# Define the range of numbers\n",
    "start = 1\n",
    "end = 5\n",
    "\n",
    "# Iterate through each number in the range\n",
    "for num in range(start, end + 1):\n",
    "    print(f\"Multiplication table for {num}:\")\n",
    "    for i in range(1, 11):\n",
    "        result = num * i\n",
    "        print(f\"{num} x {i} = {result}\")\n",
    "    print()  # Add an empty line to separate tables\n"
   ]
  },
  {
   "cell_type": "code",
   "execution_count": null,
   "metadata": {},
   "outputs": [],
   "source": [
    "for num in range(1,5):\n",
    "    print(num)\n",
    "    for i in range(1,11):\n",
    "        result = num * i\n",
    "        print(f\"{num} x {i} = {result}\")"
   ]
  },
  {
   "cell_type": "markdown",
   "metadata": {},
   "source": [
    "Write a program to find the factorial of a number using a while loop."
   ]
  },
  {
   "cell_type": "code",
   "execution_count": 2,
   "metadata": {},
   "outputs": [
    {
     "name": "stdout",
     "output_type": "stream",
     "text": [
      "120\n"
     ]
    }
   ],
   "source": [
    "num =  int(input(\"Enter the number\"))\n",
    "fact = 1\n",
    "cur = 1\n",
    "while cur <= num:\n",
    "    fact *= cur\n",
    "    cur += 1\n",
    "print(fact)\n",
    "    "
   ]
  },
  {
   "cell_type": "markdown",
   "metadata": {},
   "source": [
    "Write a program to count the number of vowels in a given string using a for loop."
   ]
  },
  {
   "cell_type": "code",
   "execution_count": 12,
   "metadata": {},
   "outputs": [
    {
     "name": "stdout",
     "output_type": "stream",
     "text": [
      "The string does not contain any vowels.\n"
     ]
    }
   ],
   "source": [
    "vowels = input(\"Enter the string: \")\n",
    "\n",
    "if any(char in 'aeiouAEIOU' for char in vowels):\n",
    "    print(\"The string contains at least one vowel.\")\n",
    "else:\n",
    "    print(\"The string does not contain any vowels.\")\n"
   ]
  },
  {
   "cell_type": "markdown",
   "metadata": {},
   "source": [
    "Write a program to check if a given number is a perfect square using a while loop."
   ]
  },
  {
   "cell_type": "code",
   "execution_count": null,
   "metadata": {},
   "outputs": [],
   "source": [
    "num =  int(input(\"Enter the number\"))\n"
   ]
  }
 ],
 "metadata": {
  "kernelspec": {
   "display_name": "Python 3",
   "language": "python",
   "name": "python3"
  },
  "language_info": {
   "codemirror_mode": {
    "name": "ipython",
    "version": 3
   },
   "file_extension": ".py",
   "mimetype": "text/x-python",
   "name": "python",
   "nbconvert_exporter": "python",
   "pygments_lexer": "ipython3",
   "version": "3.11.6"
  }
 },
 "nbformat": 4,
 "nbformat_minor": 2
}
