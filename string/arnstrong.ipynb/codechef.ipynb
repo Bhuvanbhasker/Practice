{
 "cells": [
  {
   "cell_type": "code",
   "execution_count": null,
   "metadata": {},
   "outputs": [],
   "source": [
    "# Update the blanks in the code below to solve the problem\n",
    "# problem 1\n",
    "r = 24\n",
    "k = 32\n",
    "\n",
    "if r > k:\n",
    "    print(\"Ram is heavier than Karan\")\n",
    "elif r < k:\n",
    "    print(\"Karan is heavier than Ram\")\n",
    "else:\n",
    "    print(\"Ram & Karan have the same weight!\")\n",
    "    \n",
    "r = 78\n",
    "k = 78\n",
    "\n",
    "if r > k:\n",
    "    print(\"Ram is heavier than Karan\")\n",
    "elif r < k:\n",
    "    print(\"Karan is heavier than Ram\")\n",
    "else:\n",
    "    print(\"Ram & Karan have the same weight!\")\n",
    "    "
   ]
  },
  {
   "cell_type": "code",
   "execution_count": null,
   "metadata": {},
   "outputs": [],
   "source": [
    "# problem2\n",
    "a = 25\n",
    "\n",
    "c = 52\n",
    "\n",
    "if a>= c:\n",
    "    print(\"Bravo!\")\n",
    "    \n",
    "    \n",
    "else:\n",
    "    print(\"Try again\")\n",
    "        \n",
    "      \n",
    "      \n",
    "a = 35\n",
    "\n",
    "c = 34\n",
    "\n",
    "if a>=c:\n",
    "    print(\"Bravo!\")\n",
    "else:\n",
    "    print(\"Try again\")\n",
    "        \n",
    "        \n"
   ]
  },
  {
   "cell_type": "code",
   "execution_count": 1,
   "metadata": {},
   "outputs": [
    {
     "name": "stdout",
     "output_type": "stream",
     "text": [
      "10\n",
      "20\n",
      "30\n",
      "40\n",
      "50\n"
     ]
    }
   ],
   "source": [
    "# PROGRAM3/\n",
    "from array import *\n",
    "\n",
    "array1 = array('i', [10,20,30,40,50])\n",
    "\n",
    "for x in array1:\n",
    "   print(x)"
   ]
  }
 ],
 "metadata": {
  "kernelspec": {
   "display_name": "Python 3",
   "language": "python",
   "name": "python3"
  },
  "language_info": {
   "codemirror_mode": {
    "name": "ipython",
    "version": 3
   },
   "file_extension": ".py",
   "mimetype": "text/x-python",
   "name": "python",
   "nbconvert_exporter": "python",
   "pygments_lexer": "ipython3",
   "version": "3.11.6"
  }
 },
 "nbformat": 4,
 "nbformat_minor": 2
}
