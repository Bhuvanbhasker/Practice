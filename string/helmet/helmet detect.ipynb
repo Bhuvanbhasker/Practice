{
 "cells": [
  {
   "cell_type": "code",
   "execution_count": null,
   "metadata": {},
   "outputs": [],
   "source": [
    "dat_list = [1,5,3,4]\n",
    "dat_list.sort()\n",
    "print(dat_list)"
   ]
  },
  {
   "cell_type": "code",
   "execution_count": null,
   "metadata": {},
   "outputs": [],
   "source": [
    "\n",
    "Arm = int(input(\"Enter the number: \"))\n",
    "Arm_str = str(Arm)\n",
    "length = len(Arm_str)\n",
    "num = 0\n",
    "\n",
    "for digit_char in Arm_str:\n",
    "    digit = int(digit_char)\n",
    "    num += digit ** length\n",
    "\n",
    "if num == Arm:\n",
    "    print(f\"{Arm} is an Armstrong number.\")\n",
    "else:\n",
    "    print(f\"{Arm} is not an Armstrong number.\")\n"
   ]
  },
  {
   "cell_type": "code",
   "execution_count": null,
   "metadata": {},
   "outputs": [],
   "source": [
    "a = False + False\n",
    "print(a)"
   ]
  },
  {
   "cell_type": "code",
   "execution_count": 4,
   "metadata": {},
   "outputs": [
    {
     "name": "stdout",
     "output_type": "stream",
     "text": [
      "37the number is prime\n"
     ]
    }
   ],
   "source": [
    "num = int(input(\"enter the number: \"))\n",
    "prime_number = True\n",
    "if num <= 1:\n",
    "        prime_number = False\n",
    "        \n",
    "else:\n",
    "    for i in range(2, int(num**0.5) + 1):\n",
    "    \n",
    "      if num % i == 0:\n",
    "        prime_number = False\n",
    "        break\n",
    "    if prime_number:\n",
    "        print(f\"{num}the number is prime\")\n",
    "    else:\n",
    "        print(f\"{num}the number is not prime\")\n",
    "    \n",
    "        \n"
   ]
  },
  {
   "cell_type": "code",
   "execution_count": null,
   "metadata": {},
   "outputs": [],
   "source": [
    "num = int(\"enter the number: \")\n"
   ]
  }
 ],
 "metadata": {
  "kernelspec": {
   "display_name": "Python 3",
   "language": "python",
   "name": "python3"
  },
  "language_info": {
   "codemirror_mode": {
    "name": "ipython",
    "version": 3
   },
   "file_extension": ".py",
   "mimetype": "text/x-python",
   "name": "python",
   "nbconvert_exporter": "python",
   "pygments_lexer": "ipython3",
   "version": "3.11.6"
  }
 },
 "nbformat": 4,
 "nbformat_minor": 2
}
