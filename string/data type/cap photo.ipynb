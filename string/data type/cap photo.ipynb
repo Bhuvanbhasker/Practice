{
 "cells": [
  {
   "cell_type": "code",
   "execution_count": 15,
   "metadata": {},
   "outputs": [],
   "source": [
    "import cv2\n",
    "\n",
    "# Initialize the webcam\n",
    "cap = cv2.VideoCapture(0)\n",
    "\n",
    "if not cap.isOpened():\n",
    "    print(\"Error: Could not open webcam\")\n",
    "    exit()\n",
    "\n",
    "# Read a frame from the webcam\n",
    "ret, frame = cap.read()\n",
    "\n",
    "if not ret:\n",
    "    print(\"Error: Could not read frame\")\n",
    "    exit()\n",
    "\n",
    "# Save the captured frame as an image\n",
    "cv2.imwrite(\"captured_photo.jpg\", frame)\n",
    "\n",
    "# Release the webcam\n",
    "cap.release()\n",
    "\n",
    "# Close OpenCV windows\n",
    "cv2.destroyAllWindows()\n",
    "\n",
    "print(\"Photo captured successfully as 'captured_photo.jpg'\")\n"
   ]
  },
  {
   "cell_type": "code",
   "execution_count": null,
   "metadata": {},
   "outputs": [],
   "source": [
    "class bird:\n",
    "    def _init_(self, name, age): \n",
    "     self.name = name\n",
    "     self.age = age\n",
    "\n",
    "    def greet(self):\n",
    "    \n",
    "     print(self.name)\n",
    "    \n"
   ]
  },
  {
   "cell_type": "code",
   "execution_count": null,
   "metadata": {},
   "outputs": [],
   "source": [
    "class Person:  \n",
    "    def __init__(self, name, age):  \n",
    "        self.name = name    \n",
    "        self.age = age      \n",
    "    def greet(self):  \n",
    "        print(\"Hello, my name is \" + self.name)  \n",
    "  \n",
    "# Create a new instance of the Person class and assign it to the variable person1  \n",
    "person1 = Person(\"Aryan\", 25)  \n",
    "person1.greet()    "
   ]
  }
 ],
 "metadata": {
  "kernelspec": {
   "display_name": "Python 3",
   "language": "python",
   "name": "python3"
  },
  "language_info": {
   "codemirror_mode": {
    "name": "ipython",
    "version": 3
   },
   "file_extension": ".py",
   "mimetype": "text/x-python",
   "name": "python",
   "nbconvert_exporter": "python",
   "pygments_lexer": "ipython3",
   "version": "3.11.6"
  },
  "orig_nbformat": 4
 },
 "nbformat": 4,
 "nbformat_minor": 2
}
